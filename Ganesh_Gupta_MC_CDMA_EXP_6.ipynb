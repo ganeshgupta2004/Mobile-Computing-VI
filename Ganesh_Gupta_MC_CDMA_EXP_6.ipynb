{
  "nbformat": 4,
  "nbformat_minor": 0,
  "metadata": {
    "colab": {
      "provenance": [],
      "authorship_tag": "ABX9TyMzh4MrVVRhXj4wiPJma6pG",
      "include_colab_link": true
    },
    "kernelspec": {
      "name": "python3",
      "display_name": "Python 3"
    },
    "language_info": {
      "name": "python"
    }
  },
  "cells": [
    {
      "cell_type": "markdown",
      "metadata": {
        "id": "view-in-github",
        "colab_type": "text"
      },
      "source": [
        "<a href=\"https://colab.research.google.com/github/ganeshgupta2004/Mobile-Computing-VI/blob/main/Ganesh_Gupta_MC_CDMA_EXP_6.ipynb\" target=\"_parent\"><img src=\"https://colab.research.google.com/assets/colab-badge.svg\" alt=\"Open In Colab\"/></a>"
      ]
    },
    {
      "cell_type": "code",
      "execution_count": 8,
      "metadata": {
        "colab": {
          "base_uri": "https://localhost:8080/"
        },
        "id": "R0u-jlXIupXo",
        "outputId": "cf28179b-b497-4571-d1c0-460e32999156"
      },
      "outputs": [
        {
          "name": "stdout",
          "output_type": "stream",
          "text": [
            "enter the data bits: \n",
            "Enter D1: 430\n",
            "Enter D2: 200\n",
            "Enter D3: 45\n",
            "Enter D4: 56\n",
            "resultant channel: [731 219 529 241]\n",
            "Enter the station to listen for (c1=1, c2=2 ,c3=3,c4=4):3\n"
          ]
        }
      ],
      "source": [
        "import numpy as np\n",
        "\n",
        "\n",
        "c1= [1,1,1,1]\n",
        "c2= [1,-1,1,-1]\n",
        "c3= [1,1,-1,-1]\n",
        "c4= [1,-1,-1,1]\n",
        "\n",
        "print (\"enter the data bits: \")\n",
        "d1 = int(input(\"Enter D1: \"))\n",
        "d2 = int(input(\"Enter D2: \"))\n",
        "d3 = int(input(\"Enter D3: \"))\n",
        "d4 = int(input(\"Enter D4: \"))\n",
        "\n",
        "r1 = np.multiply(c1,d1)\n",
        "r2 = np.multiply(c2,d2)\n",
        "r3 = np.multiply(c3,d3)\n",
        "r4 = np.multiply(c4,d4)\n",
        "\n",
        "resultant_channel = r1+r2+r3+r4\n",
        "print (\"resultant channel:\",resultant_channel)\n",
        "\n",
        "channel = int(input(\"Enter the station to listen for (c1=1, c2=2 ,c3=3,c4=4):\"))\n",
        "\n",
        "if channel == 1:\n",
        "  rc=c1\n",
        "elif channel == 2 :\n",
        "  rc=c2\n",
        "elif channel == 3:\n",
        "  rc=c3\n",
        "elif channel == 4 :\n",
        "  rc=c4\n",
        "else :\n",
        "  print(\"invalid channel selected: \")\n",
        "  exit()\n",
        "\n",
        "  inner_product = np.multiply(resultant_channel,rc)\n",
        "  print(\"inner product:\", inner_product)\n",
        "\n",
        "  res1 = sum(inner_product)\n",
        "  data = res1 / len(inner_product)\n",
        "  print(\"data bit that was sent;\", data)"
      ]
    }
  ]
}